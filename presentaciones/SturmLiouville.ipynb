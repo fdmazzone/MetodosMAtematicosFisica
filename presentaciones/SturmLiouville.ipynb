{
 "cells": [
  {
   "cell_type": "markdown",
   "metadata": {},
   "source": [
    "<h1> Solución de problemas de contorno con Numpy-Scipy </h1>\n",
    "\n",
    "Para un método ya incorporado en scipy consultar la documentación online\n",
    "\n",
    "https://docs.scipy.org/doc/scipy/reference/generated/scipy.integrate.solve_bvp.html\n",
    "\n",
    "**Ejemplo** Determinar los valores propios reales y funciones propias correspondientes para\n",
    " \n",
    " $$\n",
    "\\left\\{\\begin{array}{l}\n",
    "            y^{\\prime \\prime}+\\lambda y=0;\\\\\n",
    "            y(0)=0, \\quad 3 y(\\pi)-y^{\\prime}(\\pi)=0.\n",
    "\\end{array} \\right.\n",
    "$$\n",
    "\n",
    "Lo habíamos resuelto en el teórico. Hay un autovalor negativo \n",
    "$$\\lambda=-\\mu^2,\\quad \\tanh(\\mu\\pi)=\\frac{\\mu}{3}$$\n",
    "y una sucesión de autovalores positivos \n",
    "$$0<\\lambda_1<\\lambda_2<\\cdots \\nearrow \\infty$$\n",
    "\n",
    "con \n",
    "$$ \\tan(\\mu_n\\pi)=\\frac{\\mu_n}{3},\\quad\\lambda_n=\\mu_n^2,\\quad n=1,2,\\ldots $$"
   ]
  },
  {
   "cell_type": "code",
   "execution_count": 5,
   "metadata": {},
   "outputs": [],
   "source": [
    "from scipy.integrate import odeint \n",
    "import numpy as np\n",
    "import matplotlib.pyplot as plt"
   ]
  },
  {
   "cell_type": "code",
   "execution_count": 10,
   "metadata": {},
   "outputs": [
    {
     "data": {
      "text/plain": [
       "[<matplotlib.lines.Line2D at 0x7f3db0526d60>]"
      ]
     },
     "execution_count": 10,
     "metadata": {},
     "output_type": "execute_result"
    }
   ],
   "source": [
    "def ecuacion(y,t,lam):\n",
    "    x,p=y\n",
    "    dxdt=p\n",
    "    dpdt= -lam*x\n",
    "    return dxdt,dpdt\n",
    "\n",
    "# Se debe tener y(0)=0. Como si $y$ es solución $ky$ se puede asumir\n",
    "# que $y'(0)=1$\n",
    "\n",
    "def BCb(lam,b0,b1,a,b):\n",
    "    t = np.linspace(a,b,100)\n",
    "    sol = odeint(ecuacion,[0,1] ,t,args=(lam,))\n",
    "    y0=sol[-1,0]\n",
    "    y1=sol[-1,1]\n",
    "    return b0*y0+b1*y1\n",
    "\n",
    "BCb=np.vectorize(BCb)\n",
    "\n",
    "\n",
    "lam0=np.arange(-10, 50,0.1)\n",
    "\n",
    "a,b,b0,b1=0,np.pi,3,-1\n",
    "\n",
    "\n",
    "error=BCb(lam0,b0,b1,a,b)\n",
    "fig, ax = plt.subplots(1,1)\n",
    "ax.plot(lam0, error)"
   ]
  },
  {
   "cell_type": "code",
   "execution_count": 7,
   "metadata": {},
   "outputs": [],
   "source": [
    "%matplotlib qt"
   ]
  },
  {
   "cell_type": "code",
   "execution_count": 11,
   "metadata": {},
   "outputs": [
    {
     "data": {
      "text/plain": [
       "      converged: True\n",
       "           flag: 'converged'\n",
       " function_calls: 7\n",
       "     iterations: 6\n",
       "           root: 10.649630631877052"
      ]
     },
     "execution_count": 11,
     "metadata": {},
     "output_type": "execute_result"
    }
   ],
   "source": [
    "from scipy.optimize import root_scalar\n",
    "root_scalar(BCb, args=(b0,b1,a,b), bracket=(10,11))"
   ]
  },
  {
   "cell_type": "code",
   "execution_count": 12,
   "metadata": {},
   "outputs": [
    {
     "data": {
      "text/plain": [
       "1.497737156519463e-07"
      ]
     },
     "execution_count": 12,
     "metadata": {},
     "output_type": "execute_result"
    }
   ],
   "source": [
    "mu=np.sqrt(10.649630631877052)\n",
    "np.tan(mu*np.pi)-mu/3"
   ]
  },
  {
   "cell_type": "code",
   "execution_count": null,
   "metadata": {},
   "outputs": [],
   "source": []
  }
 ],
 "metadata": {
  "kernelspec": {
   "display_name": "Python 3",
   "language": "python",
   "name": "python3"
  },
  "language_info": {
   "codemirror_mode": {
    "name": "ipython",
    "version": 3
   },
   "file_extension": ".py",
   "mimetype": "text/x-python",
   "name": "python",
   "nbconvert_exporter": "python",
   "pygments_lexer": "ipython3",
   "version": "3.8.5"
  }
 },
 "nbformat": 4,
 "nbformat_minor": 4
}
