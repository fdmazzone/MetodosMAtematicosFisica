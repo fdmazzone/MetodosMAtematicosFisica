{
 "cells": [
  {
   "cell_type": "markdown",
   "metadata": {},
   "source": [
    "<h1> Introducción a Sympy </h1>"
   ]
  },
  {
   "cell_type": "code",
   "execution_count": null,
   "metadata": {},
   "outputs": [],
   "source": [
    "from sympy import *\n",
    "init_printing()"
   ]
  },
  {
   "cell_type": "code",
   "execution_count": null,
   "metadata": {},
   "outputs": [],
   "source": [
    "x=symbols('x')\n",
    "alpha=symbols('alpha')\n"
   ]
  },
  {
   "cell_type": "code",
   "execution_count": null,
   "metadata": {},
   "outputs": [],
   "source": [
    "alpha*x"
   ]
  },
  {
   "cell_type": "code",
   "execution_count": null,
   "metadata": {},
   "outputs": [],
   "source": [
    "type(x)\n"
   ]
  },
  {
   "cell_type": "code",
   "execution_count": null,
   "metadata": {},
   "outputs": [],
   "source": [
    "f=(x**3+3*x)**4-(x-1)*3+8\n",
    "f\n"
   ]
  },
  {
   "cell_type": "code",
   "execution_count": null,
   "metadata": {},
   "outputs": [],
   "source": [
    "type(f)"
   ]
  },
  {
   "cell_type": "code",
   "execution_count": null,
   "metadata": {},
   "outputs": [],
   "source": [
    "f.expand(), expand(f)"
   ]
  },
  {
   "cell_type": "code",
   "execution_count": null,
   "metadata": {},
   "outputs": [],
   "source": [
    "f.expand().factor()"
   ]
  },
  {
   "cell_type": "code",
   "execution_count": null,
   "metadata": {},
   "outputs": [],
   "source": [
    "(alpha*x).diff(alpha,1)"
   ]
  },
  {
   "cell_type": "code",
   "execution_count": null,
   "metadata": {},
   "outputs": [],
   "source": [
    "g=sin(x)**4+log(x+sqrt(x))\n",
    "h=g.diff(x,5)\n",
    "h.simplify()\n"
   ]
  },
  {
   "cell_type": "code",
   "execution_count": null,
   "metadata": {},
   "outputs": [],
   "source": [
    "plot(h,(x,0.1,1))"
   ]
  },
  {
   "cell_type": "markdown",
   "metadata": {},
   "source": [
    "<h2> Álgebra Lineal </h2>"
   ]
  },
  {
   "cell_type": "code",
   "execution_count": null,
   "metadata": {},
   "outputs": [],
   "source": [
    "symbols('a1:6')"
   ]
  },
  {
   "cell_type": "code",
   "execution_count": null,
   "metadata": {},
   "outputs": [],
   "source": [
    "a=symbols('a:2:2')\n",
    "Matrix(a)"
   ]
  },
  {
   "cell_type": "code",
   "execution_count": null,
   "metadata": {},
   "outputs": [],
   "source": [
    "b=Matrix(a).reshape(2,2)\n",
    "b"
   ]
  },
  {
   "cell_type": "code",
   "execution_count": null,
   "metadata": {},
   "outputs": [],
   "source": [
    "type(b)"
   ]
  },
  {
   "cell_type": "code",
   "execution_count": 25,
   "metadata": {},
   "outputs": [
    {
     "data": {
      "image/png": "[encoded data removed]",
      "text/latex": [
       "$\\displaystyle a_{00} a_{11} - a_{00} \\lambda - a_{01} a_{10} - a_{11} \\lambda + \\lambda^{2}$"
      ],
      "text/plain": [
       "                                     2\n",
       "a₀₀⋅a₁₁ - a₀₀⋅λ - a₀₁⋅a₁₀ - a₁₁⋅λ + λ "
      ]
     },
     "execution_count": 25,
     "metadata": {},
     "output_type": "execute_result"
    }
   ],
   "source": [
    "lam=symbols('lambda')\n",
    "p=(b-lam*eye(2)).det() #eye=indentidad\n",
    "p\n"
   ]
  },
  {
   "cell_type": "code",
   "execution_count": 27,
   "metadata": {},
   "outputs": [
    {
     "data": {
      "image/png": "[encoded data removed]",
      "text/latex": [
       "$\\displaystyle \\left[ \\frac{a_{00}}{2} + \\frac{a_{11}}{2} - \\frac{\\sqrt{a_{00}^{2} - 2 a_{00} a_{11} + 4 a_{01} a_{10} + a_{11}^{2} + 4}}{2}, \\  \\frac{a_{00}}{2} + \\frac{a_{11}}{2} + \\frac{\\sqrt{a_{00}^{2} - 2 a_{00} a_{11} + 4 a_{01} a_{10} + a_{11}^{2} + 4}}{2}\\right]$"
      ],
      "text/plain": [
       "⎡               _________________________________________                 ____\n",
       "⎢              ╱    2                              2                     ╱    \n",
       "⎢a₀₀   a₁₁   ╲╱  a₀₀  - 2⋅a₀₀⋅a₁₁ + 4⋅a₀₁⋅a₁₀ + a₁₁  + 4   a₀₀   a₁₁   ╲╱  a₀₀\n",
       "⎢─── + ─── - ────────────────────────────────────────────, ─── + ─── + ───────\n",
       "⎣ 2     2                         2                         2     2           \n",
       "\n",
       "_____________________________________⎤\n",
       "2                              2     ⎥\n",
       "  - 2⋅a₀₀⋅a₁₁ + 4⋅a₀₁⋅a₁₀ + a₁₁  + 4 ⎥\n",
       "─────────────────────────────────────⎥\n",
       "              2                      ⎦"
      ]
     },
     "execution_count": 27,
     "metadata": {},
     "output_type": "execute_result"
    }
   ],
   "source": [
    "solve(p,lam)\n"
   ]
  },
  {
   "cell_type": "code",
   "execution_count": null,
   "metadata": {},
   "outputs": [],
   "source": [
    "M=[Rational(1,i+j) for i in range(1,5) for j in range(1,5)]\n",
    "M=Matrix(M).reshape(4,4)\n",
    "M"
   ]
  },
  {
   "cell_type": "code",
   "execution_count": null,
   "metadata": {},
   "outputs": [],
   "source": [
    "type(Rational(1,3))"
   ]
  },
  {
   "cell_type": "code",
   "execution_count": null,
   "metadata": {},
   "outputs": [],
   "source": [
    "lam=symbols('lambda')\n",
    "(M-lam*eye(4)).det()"
   ]
  },
  {
   "cell_type": "markdown",
   "metadata": {},
   "source": [
    "<h2> Lógica </h2>"
   ]
  },
  {
   "cell_type": "code",
   "execution_count": null,
   "metadata": {},
   "outputs": [],
   "source": [
    "p,q=symbols('p,q')\n",
    "r=p>>q\n"
   ]
  },
  {
   "cell_type": "code",
   "execution_count": null,
   "metadata": {},
   "outputs": [],
   "source": [
    "simplify((p>>q)&(q>>p))"
   ]
  },
  {
   "cell_type": "code",
   "execution_count": null,
   "metadata": {},
   "outputs": [],
   "source": [
    "[r.subs({p:i,q:j}) for i in (True,False) for j in (True,False)]"
   ]
  },
  {
   "cell_type": "code",
   "execution_count": null,
   "metadata": {},
   "outputs": [],
   "source": [
    "r=(p&(p>>q))>>q"
   ]
  },
  {
   "cell_type": "code",
   "execution_count": null,
   "metadata": {},
   "outputs": [],
   "source": [
    "[r.subs({p:i,q:j}) for i in (True,False) for j in (True,False)]"
   ]
  },
  {
   "cell_type": "markdown",
   "metadata": {},
   "source": [
    "<h2>Problema </h2>\n",
    "De un cartón de 12m² se va a construir una caja sin tapa. Encontrar el volúmen máximo de la caja "
   ]
  },
  {
   "cell_type": "code",
   "execution_count": 28,
   "metadata": {},
   "outputs": [
    {
     "data": {
      "image/png": "[encoded data removed]",
      "text/latex": [
       "$\\displaystyle \\left[ - \\lambda \\left(y + 2 z\\right) + y z, \\  - \\lambda \\left(x + 2 z\\right) + x z, \\  - \\lambda \\left(2 x + 2 y\\right) + x y, \\  x y + 2 x z + 2 y z - 12\\right]$"
      ],
      "text/plain": [
       "[-λ⋅(y + 2⋅z) + y⋅z, -λ⋅(x + 2⋅z) + x⋅z, -λ⋅(2⋅x + 2⋅y) + x⋅y, x⋅y + 2⋅x⋅z + 2\n",
       "⋅y⋅z - 12]"
      ]
     },
     "execution_count": 28,
     "metadata": {},
     "output_type": "execute_result"
    }
   ],
   "source": [
    "x,y,z=symbols('x,y,z')\n",
    "lam=symbols('lambda')\n",
    "g1=2*x*z+2*y*z+x*y-12\n",
    "f=x*y*z-lam*g1\n",
    "Eq1=[f.diff(h) for h in (x,y,z)]\n",
    "Eq2=Eq1+[g1]\n",
    "Eq2\n"
   ]
  },
  {
   "cell_type": "code",
   "execution_count": 29,
   "metadata": {},
   "outputs": [
    {
     "data": {
      "image/png": "[encoded data removed]",
      "text/latex": [
       "$\\displaystyle \\left[ \\left( -2, \\  -2, \\  -1, \\  - \\frac{1}{2}\\right), \\  \\left( 2, \\  2, \\  1, \\  \\frac{1}{2}\\right)\\right]$"
      ],
      "text/plain": [
       "[(-2, -2, -1, -1/2), (2, 2, 1, 1/2)]"
      ]
     },
     "execution_count": 29,
     "metadata": {},
     "output_type": "execute_result"
    }
   ],
   "source": [
    "sol=solve(Eq2,[x,y,z,lam])\n",
    "sol"
   ]
  },
  {
   "cell_type": "code",
   "execution_count": 37,
   "metadata": {},
   "outputs": [
    {
     "data": {
      "image/png": "[encoded data removed]",
      "text/latex": [
       "$\\displaystyle 0.0174524064372835$"
      ],
      "text/plain": [
       "0.0174524064372835"
      ]
     },
     "execution_count": 37,
     "metadata": {},
     "output_type": "execute_result"
    }
   ],
   "source": [
    "N(sin(1*pi/180))"
   ]
  },
  {
   "cell_type": "code",
   "execution_count": 42,
   "metadata": {},
   "outputs": [
    {
     "data": {
      "image/png": "[encoded data removed]",
      "text/latex": [
       "$\\displaystyle x^{2}$"
      ],
      "text/plain": [
       " 2\n",
       "x "
      ]
     },
     "execution_count": 42,
     "metadata": {},
     "output_type": "execute_result"
    }
   ],
   "source": [
    "Integral(x**2).diff(x)"
   ]
  },
  {
   "cell_type": "markdown",
   "metadata": {},
   "source": [
    "<h2> Grupos </h2>"
   ]
  },
  {
   "cell_type": "code",
   "execution_count": null,
   "metadata": {},
   "outputs": [],
   "source": [
    "from sympy.combinatorics import Permutation\n"
   ]
  },
  {
   "cell_type": "code",
   "execution_count": null,
   "metadata": {},
   "outputs": [],
   "source": [
    "a = Permutation([1, 0, 2,5,7,6,4,3])\n",
    "a"
   ]
  },
  {
   "cell_type": "code",
   "execution_count": null,
   "metadata": {},
   "outputs": [],
   "source": [
    "a**13"
   ]
  },
  {
   "cell_type": "code",
   "execution_count": null,
   "metadata": {},
   "outputs": [],
   "source": [
    "from sympy.combinatorics.named_groups import SymmetricGroup\n",
    "G = SymmetricGroup(4)\n",
    "G[0]*G[0]"
   ]
  },
  {
   "cell_type": "code",
   "execution_count": null,
   "metadata": {},
   "outputs": [],
   "source": [
    "G"
   ]
  },
  {
   "cell_type": "code",
   "execution_count": null,
   "metadata": {},
   "outputs": [],
   "source": []
  }
 ],
 "metadata": {
  "kernelspec": {
   "display_name": "Python 3",
   "language": "python",
   "name": "python3"
  },
  "language_info": {
   "codemirror_mode": {
    "name": "ipython",
    "version": 3
   },
   "file_extension": ".py",
   "mimetype": "text/x-python",
   "name": "python",
   "nbconvert_exporter": "python",
   "pygments_lexer": "ipython3",
   "version": "3.8.5"
  },
  "toc-showtags": true
 },
 "nbformat": 4,
 "nbformat_minor": 4
}
