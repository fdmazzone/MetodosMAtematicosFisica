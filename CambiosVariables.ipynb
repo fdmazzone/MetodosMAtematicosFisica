{
 "cells": [
  {
   "cell_type": "code",
   "execution_count": 1,
   "metadata": {},
   "outputs": [],
   "source": [
    "from sympy import *\n",
    "init_printing()"
   ]
  },
  {
   "cell_type": "markdown",
   "metadata": {},
   "source": [
    "<h2> Laplaciano en coordenadas polares </h2>"
   ]
  },
  {
   "cell_type": "code",
   "execution_count": 2,
   "metadata": {},
   "outputs": [],
   "source": [
    "var('x,y')\n",
    "r=sqrt(x**2+y**2)\n",
    "theta=atan(y/x)"
   ]
  },
  {
   "cell_type": "code",
   "execution_count": 3,
   "metadata": {},
   "outputs": [
    {
     "data": {
      "image/png": "[encoded data removed]",
      "text/latex": [
       "$\\displaystyle \\frac{x^{2} \\sqrt{x^{2} + y^{2}} \\left. \\frac{\\partial^{2}}{\\partial \\xi_{1}^{2}} u{\\left(\\xi_{1},\\operatorname{atan}{\\left(\\frac{y}{x} \\right)} \\right)} \\right|_{\\substack{ \\xi_{1}=\\sqrt{x^{2} + y^{2}} }} + x^{2} \\left. \\frac{\\partial}{\\partial \\xi_{1}} u{\\left(\\xi_{1},\\operatorname{atan}{\\left(\\frac{y}{x} \\right)} \\right)} \\right|_{\\substack{ \\xi_{1}=\\sqrt{x^{2} + y^{2}} }} + y^{2} \\sqrt{x^{2} + y^{2}} \\left. \\frac{\\partial^{2}}{\\partial \\xi_{1}^{2}} u{\\left(\\xi_{1},\\operatorname{atan}{\\left(\\frac{y}{x} \\right)} \\right)} \\right|_{\\substack{ \\xi_{1}=\\sqrt{x^{2} + y^{2}} }} + y^{2} \\left. \\frac{\\partial}{\\partial \\xi_{1}} u{\\left(\\xi_{1},\\operatorname{atan}{\\left(\\frac{y}{x} \\right)} \\right)} \\right|_{\\substack{ \\xi_{1}=\\sqrt{x^{2} + y^{2}} }} + \\sqrt{x^{2} + y^{2}} \\left. \\frac{\\partial^{2}}{\\partial \\xi_{2}^{2}} u{\\left(\\sqrt{x^{2} + y^{2}},\\xi_{2} \\right)} \\right|_{\\substack{ \\xi_{2}=\\operatorname{atan}{\\left(\\frac{y}{x} \\right)} }}}{\\left(x^{2} + y^{2}\\right)^{\\frac{3}{2}}}$"
      ],
      "text/plain": [
       "      _________ ⎛  2                 ⎞│                                       \n",
       " 2   ╱  2    2  ⎜ ∂  ⎛ ⎛        ⎛y⎞⎞⎞⎟│                   2 ⎛ ∂ ⎛ ⎛        ⎛y⎞\n",
       "x ⋅╲╱  x  + y  ⋅⎜────⎜u⎜ξ₁, atan⎜─⎟⎟⎟⎟│      _________ + x ⋅⎜───⎜u⎜ξ₁, atan⎜─⎟\n",
       "                ⎜   2⎝ ⎝        ⎝x⎠⎠⎠⎟│     ╱  2    2       ⎝∂ξ₁⎝ ⎝        ⎝x⎠\n",
       "                ⎝∂ξ₁                 ⎠│ξ₁=╲╱  x  + y                          \n",
       "                                                                              \n",
       "──────────────────────────────────────────────────────────────────────────────\n",
       "                                                                              \n",
       "                                                                              \n",
       "                                                                              \n",
       "\n",
       "                            _________ ⎛  2                 ⎞│                 \n",
       "⎞⎞⎞│      _________    2   ╱  2    2  ⎜ ∂  ⎛ ⎛        ⎛y⎞⎞⎞⎟│                 \n",
       "⎟⎟⎟│     ╱  2    2  + y ⋅╲╱  x  + y  ⋅⎜────⎜u⎜ξ₁, atan⎜─⎟⎟⎟⎟│      _________ +\n",
       "⎠⎠⎠│ξ₁=╲╱  x  + y                     ⎜   2⎝ ⎝        ⎝x⎠⎠⎠⎟│     ╱  2    2   \n",
       "                                      ⎝∂ξ₁                 ⎠│ξ₁=╲╱  x  + y    \n",
       "                                                                              \n",
       "──────────────────────────────────────────────────────────────────────────────\n",
       "                                                   3/2                        \n",
       "                                          ⎛ 2    2⎞                           \n",
       "                                          ⎝x  + y ⎠                           \n",
       "\n",
       "                                               _________ ⎛  2 ⎛ ⎛   _________ \n",
       "  2 ⎛ ∂ ⎛ ⎛        ⎛y⎞⎞⎞⎞│      _________     ╱  2    2  ⎜ ∂  ⎜ ⎜  ╱  2    2  \n",
       " y ⋅⎜───⎜u⎜ξ₁, atan⎜─⎟⎟⎟⎟│     ╱  2    2  + ╲╱  x  + y  ⋅⎜────⎝u⎝╲╱  x  + y  ,\n",
       "    ⎝∂ξ₁⎝ ⎝        ⎝x⎠⎠⎠⎠│ξ₁=╲╱  x  + y                  ⎜   2                \n",
       "                                                         ⎝∂ξ₂                 \n",
       "                                                                              \n",
       "──────────────────────────────────────────────────────────────────────────────\n",
       "                                                                              \n",
       "                                                                              \n",
       "                                                                              \n",
       "\n",
       "   ⎞⎞⎞│          \n",
       "   ⎟⎟⎟│          \n",
       " ξ₂⎠⎠⎟│          \n",
       "     ⎟│       ⎛y⎞\n",
       "     ⎠│ξ₂=atan⎜─⎟\n",
       "              ⎝x⎠\n",
       "─────────────────\n",
       "                 \n",
       "                 \n",
       "                 "
      ]
     },
     "execution_count": 3,
     "metadata": {},
     "output_type": "execute_result"
    }
   ],
   "source": [
    "u=Function('u')(r,theta)\n",
    "v=simplify(u.diff(x,2)+u.diff(y,2))\n",
    "v"
   ]
  },
  {
   "cell_type": "code",
   "execution_count": 4,
   "metadata": {},
   "outputs": [
    {
     "data": {
      "image/png": "[encoded data removed]",
      "text/latex": [
       "$\\displaystyle \\frac{r x^{2} \\frac{\\partial^{2}}{\\partial r^{2}} u{\\left(r,\\theta \\right)} + r y^{2} \\frac{\\partial^{2}}{\\partial r^{2}} u{\\left(r,\\theta \\right)} + r \\frac{\\partial^{2}}{\\partial \\theta^{2}} u{\\left(r,\\theta \\right)} + x^{2} \\frac{\\partial}{\\partial r} u{\\left(r,\\theta \\right)} + y^{2} \\frac{\\partial}{\\partial r} u{\\left(r,\\theta \\right)}}{r^{3}}$"
      ],
      "text/plain": [
       "       2                   2                2                                 \n",
       "   2  ∂                2  ∂                ∂              2 ∂              2 ∂\n",
       "r⋅x ⋅───(u(r, θ)) + r⋅y ⋅───(u(r, θ)) + r⋅───(u(r, θ)) + x ⋅──(u(r, θ)) + y ⋅─\n",
       "       2                   2                2               ∂r               ∂\n",
       "     ∂r                  ∂r               ∂θ                                  \n",
       "──────────────────────────────────────────────────────────────────────────────\n",
       "                                            3                                 \n",
       "                                           r                                  \n",
       "\n",
       "          \n",
       "          \n",
       "─(u(r, θ))\n",
       "r         \n",
       "          \n",
       "──────────\n",
       "          \n",
       "          "
      ]
     },
     "execution_count": 4,
     "metadata": {},
     "output_type": "execute_result"
    }
   ],
   "source": [
    "r=symbols('r',positive=True)\n",
    "theta=symbols('theta',real=True)\n",
    "w=v.subs({sqrt(x**2+y**2):r,atan(y/x):theta})\n",
    "w.simplify()"
   ]
  },
  {
   "cell_type": "code",
   "execution_count": 5,
   "metadata": {},
   "outputs": [
    {
     "data": {
      "image/png": "[encoded data removed]",
      "text/latex": [
       "$\\displaystyle \\frac{\\partial^{2}}{\\partial r^{2}} u{\\left(r,\\theta \\right)} + \\frac{\\frac{\\partial}{\\partial r} u{\\left(r,\\theta \\right)}}{r} + \\frac{\\frac{\\partial^{2}}{\\partial \\theta^{2}} u{\\left(r,\\theta \\right)}}{r^{2}}$"
      ],
      "text/plain": [
       "                               2         \n",
       "                              ∂          \n",
       "               ∂             ───(u(r, θ))\n",
       "  2            ──(u(r, θ))     2         \n",
       " ∂             ∂r            ∂θ          \n",
       "───(u(r, θ)) + ─────────── + ────────────\n",
       "  2                 r              2     \n",
       "∂r                                r      "
      ]
     },
     "execution_count": 5,
     "metadata": {},
     "output_type": "execute_result"
    }
   ],
   "source": [
    "w.subs({x:r*cos(theta),y:r*sin(theta)}).expand().simplify()"
   ]
  },
  {
   "cell_type": "markdown",
   "metadata": {},
   "source": [
    "$$\\boxed{u_{xx}+u_{yy}=u_{rr}+\\frac{1}{r}u_r+\\frac{1}{r^2}u_{\\theta \\theta}}.$$\n",
    "\n",
    "<h2>\n",
    "    Encontrar el Laplaciano en coordenadas esféricas\n",
    "</h2>\n",
    "\n",
    "\n",
    "![](esfericas.png)\n",
    "\n",
    "$$\n",
    "x=r \\sin \\theta \\cos \\varphi \\quad y=r \\sin \\theta \\sin \\varphi \\quad z=r \\cos \\theta\n",
    "$$"
   ]
  },
  {
   "cell_type": "markdown",
   "metadata": {},
   "source": [
    "<h2> Cambio de variables analítico </h2>\n",
    "Demostrar \n",
    "\n",
    "**Teorema**\n",
    "Supongamos $f(z)=u(x,y)+iv(x,y)$  analítica y $H(u,v)$ una función de clase $C^2$. Pongamos $h(x,y)=H(u(x,y),v(x,y))$ entonces\n",
    "$$h_{xx}+h_{yy}=(H_{uu}+H_{vv})(v_x^2+v_y^2).$$\n",
    "En paticular, si $f$ es mapeo conforme (es decir $f$ analítica y $f'(z)\\neq 0$), entonces $H$ es armónica si y solo si $h$ es analítica.\n"
   ]
  },
  {
   "cell_type": "code",
   "execution_count": null,
   "metadata": {},
   "outputs": [],
   "source": []
  }
 ],
 "metadata": {
  "kernelspec": {
   "display_name": "Python 3 (ipykernel)",
   "language": "python",
   "name": "python3"
  },
  "language_info": {
   "codemirror_mode": {
    "name": "ipython",
    "version": 3
   },
   "file_extension": ".py",
   "mimetype": "text/x-python",
   "name": "python",
   "nbconvert_exporter": "python",
   "pygments_lexer": "ipython3",
   "version": "3.9.12"
  }
 },
 "nbformat": 4,
 "nbformat_minor": 4
}
